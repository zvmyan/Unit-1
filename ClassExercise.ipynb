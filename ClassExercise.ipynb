{
  "nbformat": 4,
  "nbformat_minor": 0,
  "metadata": {
    "colab": {
      "name": "ClassExercise",
      "provenance": [],
      "authorship_tag": "ABX9TyPEYYQ4uBhX89SwlHZYmjiQ",
      "include_colab_link": true
    },
    "kernelspec": {
      "name": "python3",
      "display_name": "Python 3"
    }
  },
  "cells": [
    {
      "cell_type": "markdown",
      "metadata": {
        "id": "view-in-github",
        "colab_type": "text"
      },
      "source": [
        "<a href=\"https://colab.research.google.com/github/zvmyan/Unit-1/blob/master/ClassExercise.ipynb\" target=\"_parent\"><img src=\"https://colab.research.google.com/assets/colab-badge.svg\" alt=\"Open In Colab\"/></a>"
      ]
    },
    {
      "cell_type": "markdown",
      "metadata": {
        "id": "1VOYJgMikg11"
      },
      "source": [
        "# Class Exercise"
      ]
    },
    {
      "cell_type": "code",
      "metadata": {
        "id": "e0rWCkUbkv9B"
      },
      "source": [
        "class PS_Vita():\n",
        "#constructor: here the attributes are defined\n",
        "  def __init__(self): #double underscores\n",
        "    self.game_selection = 0\n",
        "    self.battery_level = 0\n",
        "    self.touch_screen = 0\n",
        "\n",
        "  def get_battery_level(self):\n",
        "    return self.battery_level"
      ],
      "execution_count": 11,
      "outputs": []
    },
    {
      "cell_type": "code",
      "metadata": {
        "colab": {
          "base_uri": "https://localhost:8080/"
        },
        "id": "8h3VaXholoP-",
        "outputId": "f7d658dd-3283-422a-8dcf-f4bdf967c727"
      },
      "source": [
        "# create and object of the class PS vita\n",
        "vita_1 = PS_Vita()\n",
        "print(vita_1.get_battery_level())"
      ],
      "execution_count": 12,
      "outputs": [
        {
          "output_type": "stream",
          "text": [
            "0\n"
          ],
          "name": "stdout"
        }
      ]
    }
  ]
}